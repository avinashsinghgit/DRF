{
 "cells": [
  {
   "cell_type": "code",
   "execution_count": 1,
   "id": "104ce7b9",
   "metadata": {},
   "outputs": [],
   "source": [
    "class Person:\n",
    "  name = \"John\"\n",
    "  age = 36\n",
    "  country = \"Norway\"\n"
   ]
  },
  {
   "cell_type": "code",
   "execution_count": null,
   "id": "38f7917e",
   "metadata": {},
   "outputs": [],
   "source": []
  },
  {
   "cell_type": "code",
   "execution_count": 1,
   "id": "65ebc34f",
   "metadata": {},
   "outputs": [],
   "source": [
    "a = \"Harry Potter and the Sorcerer’s Stone\""
   ]
  },
  {
   "cell_type": "code",
   "execution_count": 2,
   "id": "9b670dba",
   "metadata": {},
   "outputs": [
    {
     "data": {
      "text/plain": [
       "37"
      ]
     },
     "execution_count": 2,
     "metadata": {},
     "output_type": "execute_result"
    }
   ],
   "source": [
    "len(a)"
   ]
  },
  {
   "cell_type": "code",
   "execution_count": 3,
   "id": "9913a0f3",
   "metadata": {},
   "outputs": [
    {
     "data": {
      "text/plain": [
       "36"
      ]
     },
     "execution_count": 3,
     "metadata": {},
     "output_type": "execute_result"
    }
   ],
   "source": [
    "p.age"
   ]
  },
  {
   "cell_type": "code",
   "execution_count": 4,
   "id": "d673881e",
   "metadata": {},
   "outputs": [],
   "source": [
    "setattr(Person, 'age', 40)"
   ]
  },
  {
   "cell_type": "code",
   "execution_count": 5,
   "id": "4abb515b",
   "metadata": {},
   "outputs": [
    {
     "data": {
      "text/plain": [
       "40"
      ]
     },
     "execution_count": 5,
     "metadata": {},
     "output_type": "execute_result"
    }
   ],
   "source": [
    "p.age"
   ]
  },
  {
   "cell_type": "code",
   "execution_count": null,
   "id": "530f5d73",
   "metadata": {},
   "outputs": [],
   "source": []
  },
  {
   "cell_type": "code",
   "execution_count": null,
   "id": "61639c45",
   "metadata": {},
   "outputs": [],
   "source": []
  },
  {
   "cell_type": "code",
   "execution_count": 7,
   "id": "f76b04f7",
   "metadata": {},
   "outputs": [],
   "source": [
    "class Person:\n",
    "  name = \"John\"\n",
    "  age = 36\n",
    "  country = \"Norway\"\n"
   ]
  },
  {
   "cell_type": "code",
   "execution_count": 8,
   "id": "25f4d181",
   "metadata": {},
   "outputs": [
    {
     "data": {
      "text/plain": [
       "36"
      ]
     },
     "execution_count": 8,
     "metadata": {},
     "output_type": "execute_result"
    }
   ],
   "source": [
    "getattr(Person, 'age')"
   ]
  },
  {
   "cell_type": "code",
   "execution_count": null,
   "id": "3a56c05f-0ec7-4123-90b1-9d08f514b0b3",
   "metadata": {},
   "outputs": [],
   "source": []
  },
  {
   "cell_type": "code",
   "execution_count": null,
   "id": "ea6bfbdb-59b9-4f11-891d-3121111dafc9",
   "metadata": {},
   "outputs": [],
   "source": []
  },
  {
   "cell_type": "code",
   "execution_count": 9,
   "id": "43aaa0a1-a99f-47c8-b272-e3cb31baa0c5",
   "metadata": {},
   "outputs": [],
   "source": [
    "class Person:\n",
    "  name = \"John\"\n",
    "  age = 36\n",
    "  country = \"Norway\""
   ]
  },
  {
   "cell_type": "code",
   "execution_count": 10,
   "id": "59ceeb12-cf57-444d-8e82-9d69b1fd7339",
   "metadata": {},
   "outputs": [
    {
     "data": {
      "text/plain": [
       "36"
      ]
     },
     "execution_count": 10,
     "metadata": {},
     "output_type": "execute_result"
    }
   ],
   "source": [
    "Person().age"
   ]
  },
  {
   "cell_type": "code",
   "execution_count": 11,
   "id": "81f78444-d1a5-4390-93da-89a3cae6be3f",
   "metadata": {},
   "outputs": [],
   "source": [
    "delattr(Person, 'age')"
   ]
  },
  {
   "cell_type": "code",
   "execution_count": 12,
   "id": "8c2205c3-ed47-4566-ac22-b0aef0bb37d6",
   "metadata": {},
   "outputs": [
    {
     "ename": "AttributeError",
     "evalue": "'Person' object has no attribute 'age'",
     "output_type": "error",
     "traceback": [
      "\u001b[0;31m---------------------------------------------------------------------------\u001b[0m",
      "\u001b[0;31mAttributeError\u001b[0m                            Traceback (most recent call last)",
      "Cell \u001b[0;32mIn[12], line 1\u001b[0m\n\u001b[0;32m----> 1\u001b[0m \u001b[43mPerson\u001b[49m\u001b[43m(\u001b[49m\u001b[43m)\u001b[49m\u001b[38;5;241;43m.\u001b[39;49m\u001b[43mage\u001b[49m\n",
      "\u001b[0;31mAttributeError\u001b[0m: 'Person' object has no attribute 'age'"
     ]
    }
   ],
   "source": [
    "Person().age"
   ]
  },
  {
   "cell_type": "code",
   "execution_count": null,
   "id": "23cffffb-3bda-47b3-bd6b-fd79fc1d726e",
   "metadata": {},
   "outputs": [],
   "source": []
  },
  {
   "cell_type": "code",
   "execution_count": null,
   "id": "29a0a9dd-b1ae-4916-95c0-98dd061a8ef2",
   "metadata": {},
   "outputs": [],
   "source": []
  },
  {
   "cell_type": "code",
   "execution_count": null,
   "id": "03ea5018-7b3a-449f-9c3e-d2b18ab294bb",
   "metadata": {},
   "outputs": [],
   "source": []
  },
  {
   "cell_type": "code",
   "execution_count": 13,
   "id": "0f899305-da5b-4f98-8d04-d5937d4565f2",
   "metadata": {},
   "outputs": [],
   "source": [
    "class Person:\n",
    "  name = \"John\"\n",
    "  age = 36\n",
    "  country = \"Norway\"\n"
   ]
  },
  {
   "cell_type": "code",
   "execution_count": 14,
   "id": "a11f8972-93a0-480b-a8f4-6bec47fc45eb",
   "metadata": {},
   "outputs": [
    {
     "data": {
      "text/plain": [
       "True"
      ]
     },
     "execution_count": 14,
     "metadata": {},
     "output_type": "execute_result"
    }
   ],
   "source": [
    "x = hasattr(Person, 'age')\n",
    "x"
   ]
  },
  {
   "cell_type": "code",
   "execution_count": null,
   "id": "66415d9f",
   "metadata": {},
   "outputs": [],
   "source": []
  },
  {
   "cell_type": "markdown",
   "id": "533dd6c4",
   "metadata": {},
   "source": [
    "# Meta Class"
   ]
  },
  {
   "cell_type": "code",
   "execution_count": null,
   "id": "bbcd7eeb",
   "metadata": {},
   "outputs": [],
   "source": [
    "class MyMetaClass(type):\n",
    "    def __new__(cls, name, bases, attrs):\n",
    "        print(f\"\\nCreating class: {name}\")\n",
    "        # Extract the inner Meta class if it exists\n",
    "        meta = attrs.get('Meta', None)\n",
    "        if meta:\n",
    "            print(\"  Found Meta class:\")\n",
    "            for key in dir(meta):\n",
    "                print(\"key-> \", key)\n",
    "                if not key.startswith('__'):\n",
    "                    print(f\"    {key} = {getattr(meta, key)}\")\n",
    "            # Optionally: store meta attributes directly on the class\n",
    "            attrs['_meta_fields'] = getattr(meta, 'fields', [])\n",
    "            attrs['_meta_description'] = getattr(meta, 'description', 'N/A')\n",
    "        # Create the actual class\n",
    "        return super().__new__(cls, name, bases, attrs)\n"
   ]
  },
  {
   "cell_type": "markdown",
   "id": "73efdd54",
   "metadata": {},
   "source": [
    "2️⃣ Use the metaclass in a base class"
   ]
  },
  {
   "cell_type": "code",
   "execution_count": 23,
   "id": "cab722a9",
   "metadata": {},
   "outputs": [
    {
     "name": "stdout",
     "output_type": "stream",
     "text": [
      "\n",
      "Creating class: MyBaseClass\n"
     ]
    }
   ],
   "source": [
    "class MyBaseClass(metaclass=MyMetaClass):\n",
    "    pass"
   ]
  },
  {
   "cell_type": "markdown",
   "id": "047a8277",
   "metadata": {},
   "source": [
    "3️⃣ Define a class with an inner Meta"
   ]
  },
  {
   "cell_type": "code",
   "execution_count": 24,
   "id": "a5fe485d",
   "metadata": {},
   "outputs": [
    {
     "name": "stdout",
     "output_type": "stream",
     "text": [
      "\n",
      "Creating class: Product\n",
      "  Found Meta class:\n",
      "key->  __class__\n",
      "key->  __delattr__\n",
      "key->  __dict__\n",
      "key->  __dir__\n",
      "key->  __doc__\n",
      "key->  __eq__\n",
      "key->  __format__\n",
      "key->  __ge__\n",
      "key->  __getattribute__\n",
      "key->  __gt__\n",
      "key->  __hash__\n",
      "key->  __init__\n",
      "key->  __init_subclass__\n",
      "key->  __le__\n",
      "key->  __lt__\n",
      "key->  __module__\n",
      "key->  __ne__\n",
      "key->  __new__\n",
      "key->  __reduce__\n",
      "key->  __reduce_ex__\n",
      "key->  __repr__\n",
      "key->  __setattr__\n",
      "key->  __sizeof__\n",
      "key->  __str__\n",
      "key->  __subclasshook__\n",
      "key->  __weakref__\n",
      "key->  description\n",
      "    description = This class represents a product.\n",
      "key->  fields\n",
      "    fields = ['name', 'price']\n"
     ]
    }
   ],
   "source": [
    "class Product(MyBaseClass):\n",
    "    name = \"Sample Product\"\n",
    "    price = 99.99\n",
    "\n",
    "    class Meta:\n",
    "        fields = ['name', 'price']\n",
    "        description = \"This class represents a product.\"\n"
   ]
  },
  {
   "cell_type": "code",
   "execution_count": 25,
   "id": "38d28ea2",
   "metadata": {},
   "outputs": [],
   "source": [
    "obj = Product"
   ]
  },
  {
   "cell_type": "code",
   "execution_count": 26,
   "id": "ef5cee16",
   "metadata": {},
   "outputs": [
    {
     "name": "stdout",
     "output_type": "stream",
     "text": [
      "['name', 'price']\n",
      "This class represents a product.\n"
     ]
    }
   ],
   "source": [
    "print(Product._meta_fields)    \n",
    "print(Product._meta_description) "
   ]
  },
  {
   "cell_type": "code",
   "execution_count": null,
   "id": "8ecbf88d",
   "metadata": {},
   "outputs": [],
   "source": []
  },
  {
   "cell_type": "code",
   "execution_count": null,
   "id": "56c83255",
   "metadata": {},
   "outputs": [],
   "source": []
  }
 ],
 "metadata": {
  "kernelspec": {
   "display_name": "venv",
   "language": "python",
   "name": "python3"
  },
  "language_info": {
   "codemirror_mode": {
    "name": "ipython",
    "version": 3
   },
   "file_extension": ".py",
   "mimetype": "text/x-python",
   "name": "python",
   "nbconvert_exporter": "python",
   "pygments_lexer": "ipython3",
   "version": "3.10.8"
  }
 },
 "nbformat": 4,
 "nbformat_minor": 5
}
