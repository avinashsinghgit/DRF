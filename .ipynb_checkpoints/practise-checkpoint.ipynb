{
 "cells": [
  {
   "cell_type": "code",
   "execution_count": 20,
   "id": "104ce7b9",
   "metadata": {},
   "outputs": [],
   "source": [
    "class Person:\n",
    "  name = \"John\"\n",
    "  age = 36\n",
    "  country = \"Norway\"\n"
   ]
  },
  {
   "cell_type": "code",
   "execution_count": 21,
   "id": "9b670dba",
   "metadata": {},
   "outputs": [],
   "source": [
    "p = Person()"
   ]
  },
  {
   "cell_type": "code",
   "execution_count": 22,
   "id": "9913a0f3",
   "metadata": {},
   "outputs": [
    {
     "data": {
      "text/plain": [
       "36"
      ]
     },
     "execution_count": 22,
     "metadata": {},
     "output_type": "execute_result"
    }
   ],
   "source": [
    "p.age"
   ]
  },
  {
   "cell_type": "code",
   "execution_count": 23,
   "id": "d673881e",
   "metadata": {},
   "outputs": [],
   "source": [
    "setattr(Person, 'age', 40)"
   ]
  },
  {
   "cell_type": "code",
   "execution_count": 24,
   "id": "4abb515b",
   "metadata": {},
   "outputs": [
    {
     "data": {
      "text/plain": [
       "40"
      ]
     },
     "execution_count": 24,
     "metadata": {},
     "output_type": "execute_result"
    }
   ],
   "source": [
    "p.age"
   ]
  },
  {
   "cell_type": "code",
   "execution_count": null,
   "id": "530f5d73",
   "metadata": {},
   "outputs": [],
   "source": []
  },
  {
   "cell_type": "code",
   "execution_count": null,
   "id": "61639c45",
   "metadata": {},
   "outputs": [],
   "source": []
  },
  {
   "cell_type": "code",
   "execution_count": null,
   "id": "f76b04f7",
   "metadata": {},
   "outputs": [],
   "source": []
  },
  {
   "cell_type": "code",
   "execution_count": null,
   "id": "25f4d181",
   "metadata": {},
   "outputs": [],
   "source": []
  },
  {
   "cell_type": "code",
   "execution_count": 1,
   "id": "5c83d2d0",
   "metadata": {},
   "outputs": [],
   "source": [
    "class Product:\n",
    "\n",
    "    def __init__(self):\n",
    "        self.type = \"Clothes\"\n",
    "        self.gender = [\"M\", \"F\"]"
   ]
  },
  {
   "cell_type": "code",
   "execution_count": 2,
   "id": "80115268",
   "metadata": {},
   "outputs": [],
   "source": [
    "p = Product()"
   ]
  },
  {
   "cell_type": "code",
   "execution_count": 3,
   "id": "838f4fbc",
   "metadata": {},
   "outputs": [
    {
     "data": {
      "text/plain": [
       "'Clothes'"
      ]
     },
     "execution_count": 3,
     "metadata": {},
     "output_type": "execute_result"
    }
   ],
   "source": [
    "p.type"
   ]
  },
  {
   "cell_type": "code",
   "execution_count": 4,
   "id": "6b7bf303",
   "metadata": {},
   "outputs": [
    {
     "data": {
      "text/plain": [
       "['M', 'F']"
      ]
     },
     "execution_count": 4,
     "metadata": {},
     "output_type": "execute_result"
    }
   ],
   "source": [
    "p.gender"
   ]
  },
  {
   "cell_type": "code",
   "execution_count": 10,
   "id": "e66bddab",
   "metadata": {},
   "outputs": [],
   "source": [
    "setattr(p, \"type\", \"Earbuds\")"
   ]
  },
  {
   "cell_type": "code",
   "execution_count": 11,
   "id": "ab7cf617",
   "metadata": {},
   "outputs": [
    {
     "data": {
      "text/plain": [
       "'Earbuds'"
      ]
     },
     "execution_count": 11,
     "metadata": {},
     "output_type": "execute_result"
    }
   ],
   "source": [
    "p.type"
   ]
  },
  {
   "cell_type": "code",
   "execution_count": 12,
   "id": "41902ddf",
   "metadata": {},
   "outputs": [
    {
     "data": {
      "text/plain": [
       "['M', 'F']"
      ]
     },
     "execution_count": 12,
     "metadata": {},
     "output_type": "execute_result"
    }
   ],
   "source": [
    "p.gender"
   ]
  },
  {
   "cell_type": "code",
   "execution_count": 13,
   "id": "5c1ea801",
   "metadata": {},
   "outputs": [],
   "source": [
    "setattr(p, \"gender\", \"None\")"
   ]
  },
  {
   "cell_type": "code",
   "execution_count": 14,
   "id": "d143d556",
   "metadata": {},
   "outputs": [
    {
     "data": {
      "text/plain": [
       "'None'"
      ]
     },
     "execution_count": 14,
     "metadata": {},
     "output_type": "execute_result"
    }
   ],
   "source": [
    "p.gender"
   ]
  },
  {
   "cell_type": "code",
   "execution_count": 15,
   "id": "ff73f278",
   "metadata": {},
   "outputs": [
    {
     "data": {
      "text/plain": [
       "False"
      ]
     },
     "execution_count": 15,
     "metadata": {},
     "output_type": "execute_result"
    }
   ],
   "source": [
    "hasattr(p, \"name\")"
   ]
  },
  {
   "cell_type": "code",
   "execution_count": 16,
   "id": "8bdc15e7",
   "metadata": {},
   "outputs": [
    {
     "data": {
      "text/plain": [
       "True"
      ]
     },
     "execution_count": 16,
     "metadata": {},
     "output_type": "execute_result"
    }
   ],
   "source": [
    "hasattr(p, \"type\")"
   ]
  },
  {
   "cell_type": "code",
   "execution_count": 17,
   "id": "7090ca86",
   "metadata": {},
   "outputs": [
    {
     "data": {
      "text/plain": [
       "True"
      ]
     },
     "execution_count": 17,
     "metadata": {},
     "output_type": "execute_result"
    }
   ],
   "source": [
    "hasattr(p, \"gender\")"
   ]
  },
  {
   "cell_type": "code",
   "execution_count": 19,
   "id": "18cf8bf2",
   "metadata": {},
   "outputs": [
    {
     "data": {
      "text/plain": [
       "'Earbuds'"
      ]
     },
     "execution_count": 19,
     "metadata": {},
     "output_type": "execute_result"
    }
   ],
   "source": [
    "getattr(p, \"type\")"
   ]
  },
  {
   "cell_type": "code",
   "execution_count": null,
   "id": "9272a3cd",
   "metadata": {},
   "outputs": [],
   "source": [
    "getattr(p, \"type\")"
   ]
  },
  {
   "cell_type": "code",
   "execution_count": null,
   "id": "ef2f4dad",
   "metadata": {},
   "outputs": [],
   "source": []
  }
 ],
 "metadata": {
  "kernelspec": {
   "display_name": "venv",
   "language": "python",
   "name": "python3"
  },
  "language_info": {
   "codemirror_mode": {
    "name": "ipython",
    "version": 3
   },
   "file_extension": ".py",
   "mimetype": "text/x-python",
   "name": "python",
   "nbconvert_exporter": "python",
   "pygments_lexer": "ipython3",
   "version": "3.10.8"
  }
 },
 "nbformat": 4,
 "nbformat_minor": 5
}
